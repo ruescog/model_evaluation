{
 "cells": [
  {
   "cell_type": "code",
   "execution_count": null,
   "metadata": {},
   "outputs": [],
   "source": [
    "#| hide\n",
    "from model_evaluation.core import *"
   ]
  },
  {
   "cell_type": "markdown",
   "metadata": {},
   "source": [
    "# model_testing\n",
    "\n",
    "> A library to test fastai learners using some evaluation techniques.\n",
    "\n",
    "This library will allow you to easily evaluate your `fastai` `Learner`s using different evaluation techinique such as `KFold` or `RepeatedKFold`."
   ]
  },
  {
   "cell_type": "markdown",
   "metadata": {},
   "source": [
    "## Install"
   ]
  },
  {
   "cell_type": "markdown",
   "metadata": {},
   "source": [
    "To install the library, just run:\n",
    "\n",
    "```sh\n",
    "pip install model_testing\n",
    "```"
   ]
  },
  {
   "cell_type": "markdown",
   "metadata": {},
   "source": [
    "## How to use"
   ]
  },
  {
   "cell_type": "markdown",
   "metadata": {},
   "source": [
    "This library provides a method that can help you in the process of model evaluation. Using the [scikit-learn validation techniques](https://scikit-learn.org/stable/modules/cross_validation.html#cross-validation-iterators) you can validate your deep learning models.\n",
    "\n",
    "In order to validate your model, you will need to build and train various versions of it (for example, using a KFold validation, it is needed to build five different models).\n",
    "\n",
    "For doing so, you need to provide: the `DataBlock` hparams (hyperparameters), the `DataLoader` hparams, the technique used to split the data, the `Learner` construction hparams, the learning mode (whether to use a pretrained model or not: `fit_one_cycle` or `finetune`) and the `Learner` training hparams. So, the first step is to define them all:"
   ]
  },
  {
   "cell_type": "markdown",
   "metadata": {},
   "source": [
    "```python\n",
    "db_hparams = {\n",
    "    \"blocks\": (ImageBlock, MaskBlock(codes)),\n",
    "    \"get_items\": partial(get_image_files, folders=['train']),\n",
    "    \"get_y\": get_y_fn,\n",
    "    \"item_tfms\": [Resize((480,640)), TargetMaskConvertTransform(), transformPipeline],\n",
    "    \"batch_tfms\": Normalize.from_stats(*imagenet_stats)\n",
    "}\n",
    "dl_hparams = {\n",
    "    \"source\": path_images,\n",
    "    \"bs\": 4\n",
    "}\n",
    "technique = KFold(n_splits = 5)\n",
    "learner_hparams = {\n",
    "    \"arch\": resnet18,\n",
    "    \"pretrained\": True,\n",
    "    \"metrics\": [DiceMulti()]\n",
    "}\n",
    "learning_hparams = {\n",
    "    \"epochs\": 10,\n",
    "    \"base_lr\": 0.001,\n",
    "    \"freeze_epochs\": 1\n",
    "}\n",
    "learning_mode = \"finetune\"\n",
    "```"
   ]
  },
  {
   "cell_type": "markdown",
   "metadata": {},
   "source": [
    "Then, you need to call the `evaluate` method with those defined hparams. After the execution, the method will return a dictionary of results (for each metric used to test the model, the value obtained in each fold)."
   ]
  },
  {
   "cell_type": "markdown",
   "metadata": {},
   "source": [
    "```python\n",
    "r = evaluate(\n",
    "    db_hparams,\n",
    "    dl_hparams,\n",
    "    technique,\n",
    "    learner_hparams,\n",
    "    learning_hparams,\n",
    "    learning_mode\n",
    ")\n",
    "```"
   ]
  },
  {
   "cell_type": "markdown",
   "metadata": {},
   "source": [
    "Finally, you can plot the metrics using a boxplot from pandas, for example:"
   ]
  },
  {
   "cell_type": "markdown",
   "metadata": {},
   "source": [
    "```python\n",
    "import pandas as pd\n",
    "\n",
    "df = pd.DataFrame(r)\n",
    "df.boxplot(\"DiceMulti\");\n",
    "\n",
    "print(\n",
    "    df[\"DiceMulti\"].mean(),\n",
    "    df[\"DiceMulti\"].std()\n",
    ")\n",
    "```"
   ]
  },
  {
   "attachments": {
    "download.png": {
     "image/png": "[encoded data removed]"
    }
   },
   "cell_type": "markdown",
   "metadata": {},
   "source": [
    "![download.png](attachment:download.png)"
   ]
  },
  {
   "cell_type": "markdown",
   "metadata": {},
   "source": [
    "You can use this method to evaluate your model, but you can also use it to evaluate several models with distinct hparams: you can get the results for each of them and then plot the average of their metrics."
   ]
  }
 ],
 "metadata": {
  "kernelspec": {
   "display_name": "Python 3 (ipykernel)",
   "language": "python",
   "name": "python3"
  }
 },
 "nbformat": 4,
 "nbformat_minor": 4
}
